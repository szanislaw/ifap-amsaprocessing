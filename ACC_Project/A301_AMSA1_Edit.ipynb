{
 "cells": [
  {
   "cell_type": "code",
   "execution_count": 2,
   "metadata": {},
   "outputs": [],
   "source": [
    "import pandas as pd\n",
    "from collections import OrderedDict\n",
    "import openpyxl\n",
    "\n",
    "\n"
   ]
  },
  {
   "attachments": {},
   "cell_type": "markdown",
   "metadata": {},
   "source": [
    "1. 读取AMSA1 file and New_ini_Target文件（在A101中生成的文件）\n",
    "2. 提取target value,存入AMSA1中的新列“New Target”，然后将AMSA1文件另存为AMSA2.\n",
    "\n",
    "\n",
    "1. read the AMSA1 file and new_ini_Target file (which is generate from programme A101)\n",
    "2. extract ini file target value, loading the target value in AMSA1, create new column named'new target', save AMSA1 file as AMSA2 "
   ]
  },
  {
   "cell_type": "code",
   "execution_count": 4,
   "metadata": {},
   "outputs": [
    {
     "name": "stdout",
     "output_type": "stream",
     "text": [
      "94\n",
      "100\n",
      "106\n",
      "112\n",
      "118\n",
      "124\n",
      "127\n",
      "130\n",
      "132\n"
     ]
    },
    {
     "name": "stderr",
     "output_type": "stream",
     "text": [
      "C:\\Users\\wanglinl\\AppData\\Local\\Temp\\ipykernel_12796\\4190149509.py:89: FutureWarning: save is not part of the public API, usage can give unexpected results and will be removed in a future version\n",
      "  writer.save()\n"
     ]
    }
   ],
   "source": [
    "\n",
    "amsa_doc = pd.read_excel('C:/Users/wanglinl/Desktop/Linlin/2_Code_Temp/ACC_Project/AMSA1.xlsx', sheet_name=None)\n",
    "\n",
    "# reading ini file.\n",
    "new_ini_doc = pd.read_excel('C:/Users/wanglinl/Desktop/Linlin/2_Code_Temp/ACC_Project/New_ini_Target.xlsx', sheet_name=None)\n",
    "\n",
    "\n",
    "writer = pd.ExcelWriter('AMSA2.xlsx', engine='xlsxwriter')\n",
    "\n",
    "# create the dic to save working sheet\n",
    "ordered_sheets = OrderedDict()\n",
    "\n",
    "# sweep all ini traget file sheet and contents\n",
    "for sheet_name, ini_sheet in new_ini_doc.items():\n",
    "    print(sheet_name)\n",
    "    # if sheet name is not\"94\", then skip\n",
    "    if sheet_name != '94':\n",
    "        continue\n",
    "\n",
    "    # get all the frequency value from sheet name \n",
    "    freq_values = ini_sheet['Freq'].unique()\n",
    "    # print(freq_values)\n",
    "\n",
    "    #获取相对应的value列的读值\n",
    "    for freq in freq_values:\n",
    "        value = ini_sheet.loc[ini_sheet['Freq'] == freq, 'Value'].values[0]  # Freq Amplitude Target in inifile value\n",
    "        value2=ini_sheet.loc[(ini_sheet['Freq'] == freq) & (ini_sheet['Test']=='goldenphase'), 'Value'].values[0]  #Phase Target in inifile value\n",
    "\n",
    "\n",
    "        #  change all the freq value to be int, prepare to do searching in AMSA1\n",
    "        freq=int(freq)\n",
    "        Phase=f'Phase_{freq}'\n",
    "        # print(freq)\n",
    "        # print(type(freq))\n",
    "        # print(type(Phase))\n",
    "\n",
    "        processed = False\n",
    "\n",
    "        for sheet_name2, amsa_sheet in amsa_doc.items():\n",
    "            \n",
    "     \n",
    "\n",
    "            if str(freq)==sheet_name2 and not processed:\n",
    "       \n",
    "\n",
    "                #  add new column, value is same as New_Target, but column title is frequncey value  \n",
    "                amsa_sheet.loc[:, 'New_Target'] = value\n",
    "                \n",
    "                # print(amsa_sheet)\n",
    "\n",
    "                \n",
    "                # each AMSA_sheet saved in indepent working sheet, using 'AMSA-{}' as working sheet name\n",
    "                sheet_name3 = '{}'.format(freq)\n",
    "                amsa_sheet.to_excel(writer, sheet_name=sheet_name3, index=False)\n",
    "                ordered_sheets[sheet_name3] = amsa_sheet\n",
    "                #marked sheet is processed \n",
    "                processed = False\n",
    "\n",
    "        for sheet_name2, amsa_sheet in amsa_doc.items():\n",
    "\n",
    "            # print(sheet_name2)\n",
    "\n",
    "            # if Phase in sheet_name2 and not processed:\n",
    "            if str(Phase)==sheet_name2:\n",
    "                # print('phaseok')\n",
    "            \n",
    "                amsa_sheet.loc[:, 'Phase_New_Target'] = value2\n",
    "\n",
    "               # each AMSA_sheet saved in indepent working sheet, using 'AMSA-{}' as working sheet name\n",
    "               \n",
    "                sheet_name4 = '{}'.format(Phase)\n",
    "                amsa_sheet.to_excel(writer, sheet_name=sheet_name4, index=False)\n",
    "                ordered_sheets[sheet_name4] = amsa_sheet\n",
    "                #marked sheet is processed\n",
    "                processed = True\n",
    "\n",
    "        for sheet_name2, amsa_sheet in amsa_doc.items():\n",
    "            if 'THD' in sheet_name2:\n",
    "                amsa_sheet.to_excel(writer, sheet_name=sheet_name2, index=False)\n",
    "                ordered_sheets[sheet_name2] = amsa_sheet\n",
    "            else:\n",
    "                continue\n",
    "\n",
    "    \n",
    "\n",
    "writer.save()\n"
   ]
  }
 ],
 "metadata": {
  "kernelspec": {
   "display_name": "Python 3",
   "language": "python",
   "name": "python3"
  },
  "language_info": {
   "codemirror_mode": {
    "name": "ipython",
    "version": 3
   },
   "file_extension": ".py",
   "mimetype": "text/x-python",
   "name": "python",
   "nbconvert_exporter": "python",
   "pygments_lexer": "ipython3",
   "version": "3.10.9"
  },
  "orig_nbformat": 4
 },
 "nbformat": 4,
 "nbformat_minor": 2
}
