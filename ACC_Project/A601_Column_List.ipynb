{
 "cells": [
  {
   "cell_type": "code",
   "execution_count": 1,
   "metadata": {},
   "outputs": [],
   "source": [
    "import os\n",
    "import glob\n",
    "import re\n",
    "import configparser\n",
    "import pandas as pd\n",
    "import numpy as np\n",
    "import xlwings as xl\n",
    "import xlsxwriter\n",
    "import math"
   ]
  },
  {
   "cell_type": "code",
   "execution_count": 2,
   "metadata": {},
   "outputs": [
    {
     "name": "stdout",
     "output_type": "stream",
     "text": [
      "          0   1      2      3      4      5      6      7      8      9\n",
      "0      16.5  94    NaN    NaN    NaN    NaN    NaN    NaN    NaN    NaN\n",
      "1      20.0  94    NaN    NaN    NaN    NaN    NaN    NaN    NaN    NaN\n",
      "2      35.0  94    NaN    NaN    NaN    NaN    NaN    NaN    NaN    NaN\n",
      "3      75.0  94    NaN    NaN    NaN    NaN    NaN    NaN    NaN    NaN\n",
      "4      80.0  94    NaN    NaN    NaN    NaN    NaN    NaN    NaN    NaN\n",
      "5     300.0  94    NaN    NaN    NaN    NaN    NaN    NaN    NaN    NaN\n",
      "6     900.0  94    NaN    NaN    NaN    NaN    NaN    NaN    NaN    NaN\n",
      "7    1000.0  94  100.0  106.0  112.0  118.0  124.0  127.0  130.0  132.0\n",
      "8    1100.0  94    NaN    NaN    NaN    NaN    NaN    NaN    NaN    NaN\n",
      "9    3000.0  94    NaN    NaN    NaN    NaN    NaN    NaN    NaN    NaN\n",
      "10   8000.0  94    NaN    NaN    NaN    NaN    NaN    NaN    NaN    NaN\n",
      "11  10000.0  94    NaN    NaN    NaN    NaN    NaN    NaN    NaN    NaN\n",
      "[1000.0, 94.0, 100.0, 106.0, 112.0, 118.0, 124.0, 127.0, 130.0, 132.0]\n",
      "[94, 100, 106, 112, 118, 124, 127, 130, 132]\n"
     ]
    }
   ],
   "source": [
    "#### file path change!!!!!!!!!\n",
    "fpath=\"C:/Users/wanglinl/Desktop/Linlin/2_Code_Temp/Acoustic_Chambers_Calibration_Data/CalibrationSetupFile.csv\"\n",
    "\n",
    "folder_path = os.path.dirname(os.path.dirname(fpath))\n",
    "# print(fpath)    \n",
    "# print(folder_path)\n",
    "\n",
    "calib_setup = pd.read_csv(fpath,header=None)\n",
    "print(calib_setup)\n",
    "\n",
    "column_list=list(calib_setup.loc[calib_setup[0]==1000].iloc[0,:])\n",
    "\n",
    "print(column_list)\n",
    "\n",
    "\n",
    "calib_setup.columns=column_list\n",
    "\n",
    "column_list =  [ x for x in column_list if not math.isnan(x)]\n",
    "\n",
    "column_list=[round(num) for num in column_list]\n",
    "column_list=column_list[1::]\n",
    "print(column_list)\n",
    "\n",
    "\n",
    "    "
   ]
  }
 ],
 "metadata": {
  "kernelspec": {
   "display_name": "base",
   "language": "python",
   "name": "python3"
  },
  "language_info": {
   "codemirror_mode": {
    "name": "ipython",
    "version": 3
   },
   "file_extension": ".py",
   "mimetype": "text/x-python",
   "name": "python",
   "nbconvert_exporter": "python",
   "pygments_lexer": "ipython3",
   "version": "3.10.9"
  },
  "orig_nbformat": 4
 },
 "nbformat": 4,
 "nbformat_minor": 2
}
