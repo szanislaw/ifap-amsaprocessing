{
 "cells": [
  {
   "cell_type": "code",
   "execution_count": null,
   "metadata": {},
   "outputs": [],
   "source": [
    "import os\n",
    "import glob\n",
    "import re\n",
    "import configparser\n",
    "import pandas as pd\n",
    "import numpy as np\n",
    "import xlwings as xl\n",
    "import xlsxwriter\n",
    "import math"
   ]
  },
  {
   "cell_type": "code",
   "execution_count": null,
   "metadata": {},
   "outputs": [],
   "source": [
    "\n",
    "fpath=\"C:/Users/wanglinl/Desktop/Linlin/2_Code_Temp/Acoustic_Chambers_Calibration_Data/CalibrationSetupFile.csv\"\n",
    "\n",
    "folder_path = os.path.dirname(os.path.dirname(fpath))\n",
    "\n",
    "\n",
    "calib_setup = pd.read_csv(fpath,header=None)\n",
    "print(calib_setup)\n",
    "\n",
    "column_list=list(calib_setup.loc[calib_setup[0]==1000].iloc[0,:])\n",
    "\n",
    "print(column_list)\n",
    "\n",
    "\n",
    "calib_setup.columns=column_list\n",
    "\n",
    "column_list =  [ x for x in column_list if not math.isnan(x)]\n",
    "\n",
    "column_list=[round(num) for num in column_list]\n",
    "column_list=column_list[1::]\n",
    "print(column_list)\n",
    "\n",
    "\n",
    "    "
   ]
  }
 ],
 "metadata": {
  "kernelspec": {
   "display_name": "base",
   "language": "python",
   "name": "python3"
  },
  "language_info": {
   "codemirror_mode": {
    "name": "ipython",
    "version": 3
   },
   "file_extension": ".py",
   "mimetype": "text/x-python",
   "name": "python",
   "nbconvert_exporter": "python",
   "pygments_lexer": "ipython3",
   "version": "3.10.9"
  },
  "orig_nbformat": 4
 },
 "nbformat": 4,
 "nbformat_minor": 2
}
