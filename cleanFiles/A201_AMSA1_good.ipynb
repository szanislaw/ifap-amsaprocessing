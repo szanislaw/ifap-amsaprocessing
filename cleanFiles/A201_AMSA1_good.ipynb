{
 "cells": [
  {
   "cell_type": "code",
   "execution_count": null,
   "metadata": {},
   "outputs": [],
   "source": [
    "import pandas as pd"
   ]
  },
  {
   "cell_type": "code",
   "execution_count": null,
   "metadata": {},
   "outputs": [],
   "source": [
    "AMSA_file_path='AMSA.xlsx'\n",
    "data=pd.read_excel(AMSA_file_path,sheet_name=None)\n",
    "\n",
    "writer = pd.ExcelWriter('AMSA1.xlsx', engine='xlsxwriter')\n",
    "\n",
    "for sheet_name,df in data.items():\n",
    "\n",
    "    if 'SENS' in df.columns:\n",
    "        df = df.groupby('site_num')['SENS'].mean().reset_index()\n",
    "    elif df.columns.str.contains('PHASE').any():\n",
    "        df = df.groupby('site_num')[df.columns[df.columns.str.contains('PHASE')]].mean().reset_index()\n",
    "    elif df.columns.str.contains('THD').any():\n",
    "        df = df.groupby('site_num')[df.columns[df.columns.str.contains('THD')]].mean().reset_index()\n",
    "\n",
    "    # df = df.groupby('site_num')[['SENS','PHASE','THD']].mean().reset_index()\n",
    "    # print(df)\n",
    "\n",
    "\n",
    "    sheet_name = sheet_name.replace('Hz', '')\n",
    "    \n",
    "\n",
    "    df.to_excel(writer, sheet_name=sheet_name, index=False)\n",
    "\n",
    "\n",
    "\n",
    "writer.close()\n"
   ]
  },
  {
   "cell_type": "code",
   "execution_count": null,
   "metadata": {},
   "outputs": [],
   "source": [
    "%run A301_AMSA1_Edit.ipynb\n",
    "%run A401_AllCompensation.ipynb"
   ]
  }
 ],
 "metadata": {
  "kernelspec": {
   "display_name": "Python 3",
   "language": "python",
   "name": "python3"
  },
  "language_info": {
   "codemirror_mode": {
    "name": "ipython",
    "version": 3
   },
   "file_extension": ".py",
   "mimetype": "text/x-python",
   "name": "python",
   "nbconvert_exporter": "python",
   "pygments_lexer": "ipython3",
   "version": "3.10.9"
  },
  "orig_nbformat": 4
 },
 "nbformat": 4,
 "nbformat_minor": 2
}
