{
 "cells": [
  {
   "cell_type": "code",
   "execution_count": null,
   "metadata": {},
   "outputs": [],
   "source": [
    "import os\n",
    "import glob\n",
    "import re\n",
    "import configparser\n",
    "import pandas as pd\n",
    "import math"
   ]
  },
  {
   "cell_type": "code",
   "execution_count": null,
   "metadata": {},
   "outputs": [],
   "source": [
    "def inifile(file):\n",
    "    global ini_data\n",
    "\n",
    "    fpath=file\n",
    "    \n",
    "    config = configparser.ConfigParser()\n",
    "    config.read(fpath)\n",
    "\n",
    "    data = []\n",
    "    for section in config.sections():\n",
    "        for key in config[section]:\n",
    "            value = config[section][key]\n",
    "            data.append([section, key, value])\n",
    "\n",
    "    ini_data = pd.DataFrame(data, columns=['Freq', 'Test', 'Value'])\n",
    "    # print(ini_data)\n",
    "\n",
    "    # ini_data=ini_data.loc[(ini_data['Test']=='calibrationtarget') | (ini_data['Test']=='GoldenPhase'),:]\n",
    "    ini_data = ini_data.loc[(ini_data['Test'] == 'calibrationtarget') | (ini_data['Test'] == 'goldenphase'), :]\n",
    "    # print(ini_data)\n",
    "\n",
    "    split_data=ini_data['Freq'].str.replace('Name','Freq').str.split('=',expand=True)\n",
    "\n",
    "    ini_data = ini_data.drop(columns='Freq',axis=1)\n",
    "    split_data = split_data.drop(columns=0,axis=1)\n",
    "\n",
    "    ini_data=pd.concat([ini_data,split_data],axis=1)\n",
    "    ini_data=ini_data.rename(columns={1:'Freq'})\n",
    "\n",
    "    # ini_data['Value'] = ini_data['Value'].replace('#', np.nan)\n",
    "    # ini_data['Value']=ini_data['Value'].astype(float)\n",
    "    ini_data = ini_data[ini_data['Value'] != '#'].reset_index(drop=True)\n",
    "    ini_data['Value'] = ini_data['Value'].astype(float)\n",
    "    \n",
    "    # print(ini_data.at[2,'Value'].dtype)\n",
    "\n",
    "    print(ini_data)"
   ]
  },
  {
   "cell_type": "code",
   "execution_count": null,
   "metadata": {},
   "outputs": [],
   "source": [
    "#used to be A601_ini_target_generat.ipynb\n",
    "fpath = \"Acoustic_Chambers_Calibration_Data/CalibrationSetupFile.csv\"\n",
    "\n",
    "# Read CSV and set header using the first row\n",
    "calib_setup = pd.read_csv(fpath, header=None)\n",
    "column_list = calib_setup.iloc[0, :].tolist()\n",
    "calib_setup.columns = column_list\n",
    "\n",
    "# Filter and process the column list\n",
    "column_list = [round(num) for num in column_list[1:] if not math.isnan(num)]"
   ]
  },
  {
   "cell_type": "code",
   "execution_count": null,
   "metadata": {},
   "outputs": [],
   "source": [
    "# based on A601 generate the list, search every frequency point, enter the each foler to find the ini file, and extract all ini file value to generate the new ini file target file.\n",
    "\n",
    "folder_path = os.path.dirname(fpath)\n",
    "\n",
    "# file name including \"MicrophoneCharacterization\" string\n",
    "regex = re.compile(\".*MicrophoneCharacterization.*\")\n",
    "\n",
    "writer = pd.ExcelWriter('New_ini_Target.xlsx', engine='xlsxwriter')\n",
    "\n",
    "# based on column list value, using glob module try to search the folder\n",
    "for value in column_list:\n",
    "    search_pattern = os.path.join(folder_path, f\"*{value}*\")\n",
    "    folders = glob.glob(search_pattern)\n",
    "    if len(folders) > 0:\n",
    "        for folder in folders:\n",
    "            print(f\"Found folder for value {value}: {folder}\")\n",
    "            # search the ini file from each folder\n",
    "            files = glob.glob(os.path.join(folder, \"*.ini\"))\n",
    "            if len(files) > 0:\n",
    "                for file in files:\n",
    "                    # search the file naming including \"MicrophoneCharacterization\" string\n",
    "                    match = regex.search(file)\n",
    "                    if match:\n",
    "                        inifile(file)\n",
    "                        # write the data in  sheet \n",
    "                        sheetname=f'{value}'\n",
    "                        ini_data.to_excel(writer, sheet_name=sheetname, index=False)\n",
    "            else:       \n",
    "                print(f\"No files found in folder {folder}\")\n",
    "    else:\n",
    "        print(f\"No folders found for value {value}\")\n",
    "writer.close()\n",
    "\n"
   ]
  }
 ],
 "metadata": {
  "kernelspec": {
   "display_name": "base",
   "language": "python",
   "name": "python3"
  },
  "language_info": {
   "codemirror_mode": {
    "name": "ipython",
    "version": 3
   },
   "file_extension": ".py",
   "mimetype": "text/x-python",
   "name": "python",
   "nbconvert_exporter": "python",
   "pygments_lexer": "ipython3",
   "version": "3.10.9"
  },
  "orig_nbformat": 4
 },
 "nbformat": 4,
 "nbformat_minor": 2
}
